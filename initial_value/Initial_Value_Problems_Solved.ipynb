{
 "cells": [
  {
   "cell_type": "code",
   "execution_count": 38,
   "metadata": {},
   "outputs": [],
   "source": [
    "def f(x, y):\n",
    "    '''\n",
    "    The differential eqn. dy/dx is equal to this :\n",
    "    '''\n",
    "    return ((-2 * (x**3)) + (12 * (x**2)) - (20 * x) + float(8.5))"
   ]
  },
  {
   "cell_type": "markdown",
   "metadata": {},
   "source": [
    "<hr>"
   ]
  },
  {
   "cell_type": "markdown",
   "metadata": {},
   "source": [
    "<h2>Euler</h2>"
   ]
  },
  {
   "cell_type": "code",
   "execution_count": 42,
   "metadata": {},
   "outputs": [],
   "source": [
    "def euler(x_0, y_0, h, x):\n",
    "    '''\n",
    "    x_0 = initial x-value.\n",
    "    y_0 = initial y-value.\n",
    "    h = step size.(even smaller, even more accurate, even more computation time)\n",
    "    x = x_value used to approximate y.\n",
    "    '''\n",
    "    temp = float(-0)\n",
    "    \n",
    "    while(x_0 < x):\n",
    "        temp = y_0\n",
    "        y_0 += (h * f(x_0, y_0))\n",
    "        x_0 += h\n",
    "        \n",
    "    return y_0"
   ]
  },
  {
   "cell_type": "code",
   "execution_count": 43,
   "metadata": {},
   "outputs": [],
   "source": [
    "# Initial Values Below.\n",
    "init_x = 0\n",
    "init_y = 1\n",
    "\n",
    "steps = []\n",
    "i = 1\n",
    "while(i < 32 + 1):\n",
    "    steps.append(i)\n",
    "    i *= 2\n",
    "\n",
    "x_at = float(0.5)"
   ]
  },
  {
   "cell_type": "code",
   "execution_count": 50,
   "metadata": {},
   "outputs": [
    {
     "name": "stdout",
     "output_type": "stream",
     "text": [
      "EULER\n",
      "Step = 1\n",
      "Y ≈ 9.5\n",
      "Abs. Error = 1.5323062299264751 %\n",
      "\n",
      "\n",
      "Step = 2\n",
      "Y ≈ 18.0\n",
      "Abs. Error = 3.798053909334374 %\n",
      "\n",
      "\n",
      "Step = 4\n",
      "Y ≈ 35.0\n",
      "Abs. Error = 8.329549268150172 %\n",
      "\n",
      "\n",
      "Step = 8\n",
      "Y ≈ 69.0\n",
      "Abs. Error = 17.392539985781767 %\n",
      "\n",
      "\n",
      "Step = 16\n",
      "Y ≈ 137.0\n",
      "Abs. Error = 35.51852142104496 %\n",
      "\n",
      "\n",
      "Step = 32\n",
      "Y ≈ 273.0\n",
      "Abs. Error = 71.77048429157134 %\n",
      "\n",
      "\n"
     ]
    }
   ],
   "source": [
    "print(\"EULER\")\n",
    "for j in steps:\n",
    "    print(\"Step = {}\".format(str(j)))\n",
    "    print(\"Y ≈ {}\".format(str(euler(init_x, init_y, j, x_at))))\n",
    "    print(\"Abs. Error = {} %\".format(str(abs((3.751521 - euler(init_x, init_y, j, x_at)) / 3.751521))))\n",
    "    print(\"\\n\")"
   ]
  },
  {
   "cell_type": "markdown",
   "metadata": {},
   "source": [
    "<hr>"
   ]
  },
  {
   "cell_type": "markdown",
   "metadata": {},
   "source": [
    "<h2><capitalize>Runge-Kutta's Second Order</capitalize></h2>"
   ]
  },
  {
   "cell_type": "code",
   "execution_count": 47,
   "metadata": {},
   "outputs": [],
   "source": [
    "def rungeKutta_n_2(x_0, y_0, x, h):\n",
    "    n = round((x - x_0) / h)\n",
    "    \n",
    "    y = y_0\n",
    "    \n",
    "    for k in range(1, n + 1):\n",
    "        v_1 = h * f(x_0, y)\n",
    "        v_2 = h * f(x_0 + 0.5 * h, y + 0.5 * v_1)\n",
    "        \n",
    "        y = y + (1.0 / 6.0) * (v_1 + (2 * v_2))\n",
    "        x_0 += h\n",
    "        \n",
    "    return y"
   ]
  },
  {
   "cell_type": "code",
   "execution_count": 51,
   "metadata": {},
   "outputs": [
    {
     "name": "stdout",
     "output_type": "stream",
     "text": [
      "Runge-Kutta's Second Order\n",
      "Step = 1\n",
      "Y ≈ 1\n",
      "Abs. Error = 0.7334414494814236 %\n",
      "\n",
      "\n",
      "Step = 2\n",
      "Y ≈ 1\n",
      "Abs. Error = 0.7334414494814236 %\n",
      "\n",
      "\n",
      "Step = 4\n",
      "Y ≈ 1\n",
      "Abs. Error = 0.7334414494814236 %\n",
      "\n",
      "\n",
      "Step = 8\n",
      "Y ≈ 1\n",
      "Abs. Error = 0.7334414494814236 %\n",
      "\n",
      "\n",
      "Step = 16\n",
      "Y ≈ 1\n",
      "Abs. Error = 0.7334414494814236 %\n",
      "\n",
      "\n",
      "Step = 32\n",
      "Y ≈ 1\n",
      "Abs. Error = 0.7334414494814236 %\n",
      "\n",
      "\n"
     ]
    }
   ],
   "source": [
    "print(\"Runge-Kutta's Second Order\")\n",
    "for j in steps:\n",
    "    print(\"Step = {}\".format(str(j)))\n",
    "    print(\"Y ≈ {}\".format(str(rungeKutta_n_2(init_x, init_y, x_at, j))))\n",
    "    print(\"Abs. Error = {} %\".format(str(abs((3.751521 - rungeKutta_n_2(init_x, init_y, x_at, j)) / 3.751521))))\n",
    "    print(\"\\n\")"
   ]
  },
  {
   "cell_type": "markdown",
   "metadata": {},
   "source": [
    "<hr>"
   ]
  },
  {
   "cell_type": "markdown",
   "metadata": {},
   "source": [
    "<h2><capitalize>Runge-Kutta's Fourth Order</capitalize></h2>"
   ]
  },
  {
   "cell_type": "code",
   "execution_count": 52,
   "metadata": {},
   "outputs": [],
   "source": [
    "def rungeKutta_n_4(x0, y0, x, h):\n",
    "    n = (int)((x - x0) / h)\n",
    "    y = y0\n",
    "    \n",
    "    for i in range(1, n + 1):\n",
    "        k1 = h * f(x0, y)\n",
    "        k2 = h * f(x0 + 0.5 * h, y + 0.5 * k1)\n",
    "        k3 = h * f(x0 + 0.5 * h, y + 0.5 * k2)\n",
    "        k4 = h * f(x0 + h, y + k3)\n",
    " \n",
    "        y = y + (1.0 / 6.0)*(k1 + 2 * k2 + 2 * k3 + k4)\n",
    " \n",
    "        x0 += h\n",
    "    \n",
    "    return y"
   ]
  },
  {
   "cell_type": "code",
   "execution_count": 53,
   "metadata": {},
   "outputs": [
    {
     "name": "stdout",
     "output_type": "stream",
     "text": [
      "Runge-Kutta's Fourth Order\n",
      "Step = 1\n",
      "Y ≈ 1\n",
      "Abs. Error = 0.7334414494814236 %\n",
      "\n",
      "\n",
      "Step = 2\n",
      "Y ≈ 1\n",
      "Abs. Error = 0.7334414494814236 %\n",
      "\n",
      "\n",
      "Step = 4\n",
      "Y ≈ 1\n",
      "Abs. Error = 0.7334414494814236 %\n",
      "\n",
      "\n",
      "Step = 8\n",
      "Y ≈ 1\n",
      "Abs. Error = 0.7334414494814236 %\n",
      "\n",
      "\n",
      "Step = 16\n",
      "Y ≈ 1\n",
      "Abs. Error = 0.7334414494814236 %\n",
      "\n",
      "\n",
      "Step = 32\n",
      "Y ≈ 1\n",
      "Abs. Error = 0.7334414494814236 %\n",
      "\n",
      "\n"
     ]
    }
   ],
   "source": [
    "print(\"Runge-Kutta's Fourth Order\")\n",
    "for j in steps:\n",
    "    print(\"Step = {}\".format(str(j)))\n",
    "    print(\"Y ≈ {}\".format(str(rungeKutta_n_4(init_x, init_y, x_at, j))))\n",
    "    print(\"Abs. Error = {} %\".format(str(abs((3.751521 - rungeKutta_n_4(init_x, init_y, x_at, j)) / 3.751521))))\n",
    "    print(\"\\n\")"
   ]
  },
  {
   "cell_type": "markdown",
   "metadata": {},
   "source": [
    "<hr>"
   ]
  }
 ],
 "metadata": {
  "kernelspec": {
   "display_name": "Python 3",
   "language": "python",
   "name": "python3"
  },
  "language_info": {
   "codemirror_mode": {
    "name": "ipython",
    "version": 3
   },
   "file_extension": ".py",
   "mimetype": "text/x-python",
   "name": "python",
   "nbconvert_exporter": "python",
   "pygments_lexer": "ipython3",
   "version": "3.8.5"
  }
 },
 "nbformat": 4,
 "nbformat_minor": 4
}
