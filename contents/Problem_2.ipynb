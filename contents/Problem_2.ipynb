{
 "cells": [
  {
   "cell_type": "markdown",
   "metadata": {},
   "source": [
    "Based on the same data you have created for Problem 1:"
   ]
  },
  {
   "cell_type": "markdown",
   "metadata": {},
   "source": [
    "a) Create a scatter plot for both data (shoe size as your x-axis)"
   ]
  },
  {
   "cell_type": "code",
   "execution_count": 4,
   "metadata": {},
   "outputs": [],
   "source": [
    "import numpy as np\n",
    "import matplotlib.pyplot as plt\n",
    "%matplotlib inline"
   ]
  },
  {
   "cell_type": "code",
   "execution_count": 11,
   "metadata": {},
   "outputs": [
    {
     "data": {
      "text/plain": [
       "'\\nX = shoe_sizes\\nY = heights\\n'"
      ]
     },
     "execution_count": 11,
     "metadata": {},
     "output_type": "execute_result"
    }
   ],
   "source": [
    "shoe_sizes = np.random.normal(loc = 42, scale = 1.5, size = 100)\n",
    "heights = np.array([191.42391377438148, 180.34227108824484, 179.5836371713932, 185.87264611705723, 190.23916687202689, 183.03953790691864, 201.01297149214525, 193.92939696869453, 199.00124232283144, 202.70026189425602, 186.33135717849325, 201.17832496313486, 180.69688558148752, 188.74487480833238, 187.06628299328895, 204.91377480368078, 192.82314059924212, 207.1059320890884, 196.05625792015897, 197.26537508572568, 191.7812213666881, 187.4460555566883, 192.09929445675925, 187.24563257173048, 178.1310281372302, 188.801333056332, 196.10443471179877, 185.70036660253012, 190.22213010005572, 183.73525163644763, 188.7036965157275, 199.58540306705197, 191.24206565017306, 191.73485374987035, 185.44518037211054, 192.17293929941314, 196.2042933378239, 172.29295836376593, 188.38467495911985, 189.78618308110524, 195.0643174094194, 187.68491431274344, 197.7685386517801, 172.45092352330073, 170.4916280011288, 177.92974296157578, 190.64931105236357, 192.71389211936858, 190.31286071436648, 183.19419930308706, 190.04998876085193, 180.09489914218807, 190.3047030042506, 195.21541390472458, 182.83028957948426, 172.3074609649876, 199.04323864445342, 193.29092660965262, 197.01404408116122, 198.56393121449662, 195.3900650844013, 183.35695105870275, 188.027405528685, 187.35965691181545, 178.0964796060938, 200.03350188424943, 196.59427891972885, 185.88639112492947, 197.17642066306104, 188.44294658909092, 193.01088012815734, 188.7232303368806, 190.96026866542465, 196.11718337517493, 184.18872478134793, 189.30850485501094, 183.15769622497194, 182.72193195244532, 191.51759855410842, 185.27484407289836, 193.2654061227828, 195.98773240433727, 192.87310141736128, 190.65242644058407, 184.28931902688734, 188.14422051681476, 173.17646373048686, 199.7363441640779, 186.26788171570422, 195.16704470318442, 192.23452034228217, 200.8600946180969, 206.28708309378095, 200.35111424319496, 197.0251991010268, 190.78065775334176, 191.02325075264451, 188.32270277562878, 187.22424882171725, 179.07575469838747])\n",
    "'''\n",
    "X = shoe_sizes\n",
    "Y = heights\n",
    "'''"
   ]
  },
  {
   "cell_type": "code",
   "execution_count": 6,
   "metadata": {},
   "outputs": [
    {
     "data": {
      "image/png": "[encoded data removed]",
      "text/plain": [
       "<Figure size 432x288 with 1 Axes>"
      ]
     },
     "metadata": {
      "needs_background": "light"
     },
     "output_type": "display_data"
    }
   ],
   "source": [
    "# Create Scatter Plot\n",
    "plt.scatter(shoe_sizes, heights, alpha = 0.5)\n",
    "plt.title('Scatter')\n",
    "plt.xlabel('Shoe Sizes')\n",
    "plt.ylabel('Heights')\n",
    "plt.show()"
   ]
  },
  {
   "cell_type": "markdown",
   "metadata": {},
   "source": [
    "b) Develop a linear regression model to predict the male’s height based on his shoe\n",
    "size. Print your linear model with its coefficients and intercept. "
   ]
  },
  {
   "cell_type": "code",
   "execution_count": null,
   "metadata": {},
   "outputs": [],
   "source": [
    "N = 100\n",
    "# Now Find A-1 And A-0."
   ]
  },
  {
   "cell_type": "code",
   "execution_count": 8,
   "metadata": {},
   "outputs": [
    {
     "name": "stdout",
     "output_type": "stream",
     "text": [
      "80065390.79842922\n"
     ]
    }
   ],
   "source": [
    "# First Calculate N Multiplied With Sigma_XY :\n",
    "def compute_n_sigma_xy():\n",
    "    global sigma_xy\n",
    "    global n_sigma_xy\n",
    "    sigma_xy = 0\n",
    "    \n",
    "    for i, j in zip(shoe_sizes.tolist(), heights.tolist()):\n",
    "        sigma_xy += (i * j)\n",
    "    \n",
    "    n_sigma_xy = 100 * sigma_xy\n",
    "    return n_sigma_xy\n",
    "\n",
    "print(compute_n_sigma_xy())"
   ]
  },
  {
   "cell_type": "code",
   "execution_count": 10,
   "metadata": {},
   "outputs": [
    {
     "name": "stdout",
     "output_type": "stream",
     "text": [
      "4214.146881191513\n"
     ]
    }
   ],
   "source": [
    "# Then Compute Sigma_X :\n",
    "def compute_sigma_x():\n",
    "    global result\n",
    "    result = 0\n",
    "    \n",
    "    for i in shoe_sizes.tolist():\n",
    "        result += i\n",
    "    \n",
    "    return result\n",
    "\n",
    "print(compute_sigma_x())"
   ]
  },
  {
   "cell_type": "code",
   "execution_count": 12,
   "metadata": {},
   "outputs": [
    {
     "name": "stdout",
     "output_type": "stream",
     "text": [
      "19001.210998937888\n"
     ]
    }
   ],
   "source": [
    "# Then Compute Sigma_Y :\n",
    "def compute_sigma_y():\n",
    "    global y_result\n",
    "    y_result = 0\n",
    "    \n",
    "    for j in heights.tolist():\n",
    "        y_result += j\n",
    "    \n",
    "    return y_result\n",
    "\n",
    "print(compute_sigma_y())"
   ]
  },
  {
   "cell_type": "code",
   "execution_count": 13,
   "metadata": {},
   "outputs": [
    {
     "name": "stdout",
     "output_type": "stream",
     "text": [
      "17654103.93222969\n"
     ]
    }
   ],
   "source": [
    "# Then Compute N Multiplied With Sigma_X_pow_2\n",
    "def compute_n_sigma_xpow2():\n",
    "    global sigma_xpow2\n",
    "    sigma_xpow2 = 0\n",
    "    \n",
    "    for i in shoe_sizes.tolist():\n",
    "        sigma_xpow2 += (i ** 2)\n",
    "    \n",
    "    return 100 * sigma_xpow2\n",
    "\n",
    "print(compute_n_sigma_xpow2())"
   ]
  },
  {
   "cell_type": "code",
   "execution_count": 14,
   "metadata": {},
   "outputs": [
    {
     "name": "stdout",
     "output_type": "stream",
     "text": [
      "17635466.838556442\n"
     ]
    }
   ],
   "source": [
    "# Then Compute (Sigma_x) ** 2\n",
    "def compute_sigma_x_powered_to_2():\n",
    "    return (compute_sigma_x() ** 2)\n",
    "\n",
    "print(compute_sigma_x_powered_to_2())"
   ]
  },
  {
   "cell_type": "markdown",
   "metadata": {},
   "source": [
    "<h1>Now We Can Compute A-1 !</h1>"
   ]
  },
  {
   "cell_type": "code",
   "execution_count": 15,
   "metadata": {},
   "outputs": [
    {
     "name": "stdout",
     "output_type": "stream",
     "text": [
      "0.40345897522288854\n"
     ]
    }
   ],
   "source": [
    "def compute_A1_numerator():\n",
    "    return (compute_n_sigma_xy()) - (compute_sigma_x() * compute_sigma_y())\n",
    "\n",
    "def compute_A1_denominator():\n",
    "    return compute_n_sigma_xpow2() - (compute_sigma_x_powered_to_2())\n",
    "\n",
    "def compute_actual_A1():\n",
    "    return (compute_A1_numerator()) / (compute_A1_denominator())\n",
    "\n",
    "print(compute_actual_A1())"
   ]
  },
  {
   "cell_type": "code",
   "execution_count": 16,
   "metadata": {},
   "outputs": [
    {
     "name": "stdout",
     "output_type": "stream",
     "text": [
      "190.01210998937893\n"
     ]
    }
   ],
   "source": [
    "# Now Compute Average Of Y:\n",
    "def y_mean():\n",
    "    return np.mean(heights)\n",
    "\n",
    "print(y_mean())"
   ]
  },
  {
   "cell_type": "code",
   "execution_count": 17,
   "metadata": {},
   "outputs": [
    {
     "name": "stdout",
     "output_type": "stream",
     "text": [
      "41.99460303248078\n"
     ]
    }
   ],
   "source": [
    "# Then Compute Average Of X:\n",
    "def x_mean():\n",
    "    return np.mean(shoe_sizes)\n",
    "\n",
    "print(x_mean())"
   ]
  },
  {
   "cell_type": "markdown",
   "metadata": {},
   "source": [
    "<h1>Now We Can Compute A-0</h1>"
   ]
  },
  {
   "cell_type": "code",
   "execution_count": 18,
   "metadata": {},
   "outputs": [
    {
     "name": "stdout",
     "output_type": "stream",
     "text": [
      "173.06901048500222\n"
     ]
    }
   ],
   "source": [
    "def compute_A0():\n",
    "    return y_mean() - (compute_actual_A1() * x_mean())\n",
    "\n",
    "print(compute_A0())"
   ]
  },
  {
   "cell_type": "markdown",
   "metadata": {},
   "source": [
    "<h1>Now We Can Find The Lin. Regress Model From A-1 And A-0</h1>"
   ]
  },
  {
   "cell_type": "markdown",
   "metadata": {},
   "source": [
    "    Y = a * exp(bx)\n",
    "ln(Y) = ln(a) + bx Where b = A-1 and a = exp(A-0)\n",
    "\n",
    "    Z = A-0 + A-1 * x"
   ]
  },
  {
   "cell_type": "markdown",
   "metadata": {},
   "source": [
    "<h1>Found Linear Regression Model : </h1>"
   ]
  },
  {
   "cell_type": "markdown",
   "metadata": {},
   "source": [
    "<h2><center>Height = 173.06901048500222 + (0.40345897522288854 * Shoe_Size) </center></h2>"
   ]
  },
  {
   "cell_type": "markdown",
   "metadata": {},
   "source": [
    "c) Predict the following male’s heights, given their shoe sizes as below:\n",
    "Shoe size    Height(cm)\n",
    "(European) \n",
    "    43            ?\n",
    "    44.5          ?\n",
    "    40.5          ?\n",
    "    41            ?\n",
    "    39            ?\n",
    "    38            ?\n",
    "    36            ?"
   ]
  },
  {
   "cell_type": "code",
   "execution_count": 22,
   "metadata": {},
   "outputs": [],
   "source": [
    "def linregressmodel(shoe_size):\n",
    "    return compute_A0() + (compute_actual_A1() * shoe_size)"
   ]
  },
  {
   "cell_type": "code",
   "execution_count": 23,
   "metadata": {},
   "outputs": [
    {
     "name": "stdout",
     "output_type": "stream",
     "text": [
      "Height = 190.41774641958642\n",
      "Height = 191.02293488242077\n",
      "Height = 189.4090989815292\n",
      "Height = 189.61082846914064\n",
      "Height = 188.80391051869486\n",
      "Height = 188.400451543472\n",
      "Height = 187.59353359302622\n"
     ]
    }
   ],
   "source": [
    "for i in np.array([43,44.5,40.5,41,39,38,36]):\n",
    "    print(\"Height = \" + str(linregressmodel(i)))"
   ]
  },
  {
   "cell_type": "markdown",
   "metadata": {},
   "source": [
    "d) Calculate your model’s sum of square of residuals"
   ]
  },
  {
   "cell_type": "code",
   "execution_count": 24,
   "metadata": {},
   "outputs": [
    {
     "name": "stdout",
     "output_type": "stream",
     "text": [
      "250909.73346720944\n"
     ]
    }
   ],
   "source": [
    "square_sum = 0\n",
    "for j in np.array([43,44.5,40.5,41,39,38,36]):\n",
    "    square_sum += (linregressmodel(j) ** 2)\n",
    "\n",
    "print(square_sum)"
   ]
  }
 ],
 "metadata": {
  "kernelspec": {
   "display_name": "Python 3",
   "language": "python",
   "name": "python3"
  },
  "language_info": {
   "codemirror_mode": {
    "name": "ipython",
    "version": 3
   },
   "file_extension": ".py",
   "mimetype": "text/x-python",
   "name": "python",
   "nbconvert_exporter": "python",
   "pygments_lexer": "ipython3",
   "version": "3.8.5"
  }
 },
 "nbformat": 4,
 "nbformat_minor": 4
}
