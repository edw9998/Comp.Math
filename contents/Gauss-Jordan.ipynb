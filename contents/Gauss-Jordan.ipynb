{
 "cells": [
  {
   "cell_type": "markdown",
   "metadata": {},
   "source": [
    "<h1><center>Performing Gauss-Jordan Elimination On The Matrix Below :</center></h1>"
   ]
  },
  {
   "attachments": {
    "2021-04-17%20%282%29.png": {
     "image/png": "[encoded data removed]"
    }
   },
   "cell_type": "markdown",
   "metadata": {},
   "source": [
    "![2021-04-17%20%282%29.png](attachment:2021-04-17%20%282%29.png)"
   ]
  },
  {
   "cell_type": "markdown",
   "metadata": {},
   "source": [
    "<h1><center>Where The (3 X 2)Matrix Horizontally Stacks Itself With A (3 X 1)Vector.</center></h1>"
   ]
  },
  {
   "cell_type": "markdown",
   "metadata": {},
   "source": [
    "<h2>Create The Matrix</h2>"
   ]
  },
  {
   "cell_type": "code",
   "execution_count": 7,
   "metadata": {},
   "outputs": [],
   "source": [
    "import numpy as np"
   ]
  },
  {
   "cell_type": "code",
   "execution_count": 8,
   "metadata": {},
   "outputs": [
    {
     "name": "stdout",
     "output_type": "stream",
     "text": [
      "[[ 1  3 14]\n",
      " [ 7 -1 10]\n",
      " [ 2  7  9]]\n"
     ]
    }
   ],
   "source": [
    "A = np.array([[1,3,14],[7,-1,10],[2,7,9]])\n",
    "print(A)"
   ]
  },
  {
   "cell_type": "markdown",
   "metadata": {},
   "source": [
    "<h3>Subtract Row 1 Multiplied By 7 From Row 2.</h3>\n",
    "\n",
    "*R2 = R2 - 7R1*"
   ]
  },
  {
   "cell_type": "code",
   "execution_count": 9,
   "metadata": {},
   "outputs": [
    {
     "name": "stdout",
     "output_type": "stream",
     "text": [
      "[[  1   3  14]\n",
      " [  0 -22 -88]\n",
      " [  2   7   9]]\n"
     ]
    }
   ],
   "source": [
    "for itr in range(len(A)):\n",
    "    A[1][itr] -= (7 * A[0][itr])\n",
    "    \n",
    "print(A)"
   ]
  },
  {
   "cell_type": "markdown",
   "metadata": {},
   "source": [
    "<h3>Subtract Row 1 Multiplied By 2 From Row 3.</h3>\n",
    "\n",
    "*R3 = R3 - 2R1*"
   ]
  },
  {
   "cell_type": "code",
   "execution_count": 10,
   "metadata": {},
   "outputs": [
    {
     "name": "stdout",
     "output_type": "stream",
     "text": [
      "[[  1   3  14]\n",
      " [  0 -22 -88]\n",
      " [  0   1 -19]]\n"
     ]
    }
   ],
   "source": [
    "for itr in range(len(A)):\n",
    "    A[2][itr] -= (2 * A[0][itr])\n",
    "\n",
    "print(A)"
   ]
  },
  {
   "cell_type": "markdown",
   "metadata": {},
   "source": [
    "<h3>Divide Row 2 By -22.</h3>\n",
    "\n",
    "*R2 = -R2 // 22*"
   ]
  },
  {
   "cell_type": "code",
   "execution_count": 12,
   "metadata": {},
   "outputs": [
    {
     "name": "stdout",
     "output_type": "stream",
     "text": [
      "[[  1   3  14]\n",
      " [  0   1   4]\n",
      " [  0   1 -19]]\n"
     ]
    }
   ],
   "source": [
    "for itr in range(len(A)):\n",
    "    A[1][itr] *= -1\n",
    "    A[1][itr] //= 22\n",
    "\n",
    "print(A)"
   ]
  },
  {
   "cell_type": "markdown",
   "metadata": {},
   "source": [
    "<h3>Subtract Row 2 Multiplied By 3 From Row 1.</h3>\n",
    "\n",
    "*R1 = R1 -3R2*"
   ]
  },
  {
   "cell_type": "code",
   "execution_count": 13,
   "metadata": {},
   "outputs": [
    {
     "name": "stdout",
     "output_type": "stream",
     "text": [
      "[[  1   0   2]\n",
      " [  0   1   4]\n",
      " [  0   1 -19]]\n"
     ]
    }
   ],
   "source": [
    "for itr in range(len(A)):\n",
    "    A[0][itr] -= (3 * A[1][itr])\n",
    "\n",
    "print(A)"
   ]
  },
  {
   "cell_type": "markdown",
   "metadata": {},
   "source": [
    "<h3>Subtract Row 2 From Row 3.</h3>\n",
    "\n",
    "*R3 = R3 - R2*"
   ]
  },
  {
   "cell_type": "code",
   "execution_count": 14,
   "metadata": {},
   "outputs": [
    {
     "name": "stdout",
     "output_type": "stream",
     "text": [
      "[[  1   0   2]\n",
      " [  0   1   4]\n",
      " [  0   0 -23]]\n"
     ]
    }
   ],
   "source": [
    "for itr in range(len(A)):\n",
    "    A[2][itr] -= A[1][itr]\n",
    "\n",
    "print(A)"
   ]
  },
  {
   "cell_type": "markdown",
   "metadata": {},
   "source": [
    "<h3>Obtained Reduced Matrix :</h3>"
   ]
  },
  {
   "cell_type": "code",
   "execution_count": 15,
   "metadata": {},
   "outputs": [
    {
     "name": "stdout",
     "output_type": "stream",
     "text": [
      "[[  1   0   2]\n",
      " [  0   1   4]\n",
      " [  0   0 -23]]\n"
     ]
    }
   ],
   "source": [
    "print(A)"
   ]
  },
  {
   "cell_type": "markdown",
   "metadata": {},
   "source": [
    "<h1>Obtained Solutions :</h1>"
   ]
  },
  {
   "cell_type": "code",
   "execution_count": 17,
   "metadata": {},
   "outputs": [
    {
     "name": "stdout",
     "output_type": "stream",
     "text": [
      "X_1 = \n",
      "2\n"
     ]
    }
   ],
   "source": [
    "print(\"X_1 = \")\n",
    "print(A[0][2])"
   ]
  },
  {
   "cell_type": "code",
   "execution_count": 18,
   "metadata": {},
   "outputs": [
    {
     "name": "stdout",
     "output_type": "stream",
     "text": [
      "X_2 = \n",
      "4\n"
     ]
    }
   ],
   "source": [
    "print(\"X_2 = \")\n",
    "print(A[1][2])"
   ]
  },
  {
   "cell_type": "code",
   "execution_count": 19,
   "metadata": {},
   "outputs": [
    {
     "name": "stdout",
     "output_type": "stream",
     "text": [
      "X_3 = \n",
      "-23\n"
     ]
    }
   ],
   "source": [
    "print(\"X_3 = \")\n",
    "print(A[2][2])"
   ]
  }
 ],
 "metadata": {
  "kernelspec": {
   "display_name": "Python 3",
   "language": "python",
   "name": "python3"
  },
  "language_info": {
   "codemirror_mode": {
    "name": "ipython",
    "version": 3
   },
   "file_extension": ".py",
   "mimetype": "text/x-python",
   "name": "python",
   "nbconvert_exporter": "python",
   "pygments_lexer": "ipython3",
   "version": "3.8.5"
  }
 },
 "nbformat": 4,
 "nbformat_minor": 4
}
