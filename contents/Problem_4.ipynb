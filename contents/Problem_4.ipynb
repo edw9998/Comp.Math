{
 "cells": [
  {
   "cell_type": "code",
   "execution_count": 32,
   "metadata": {},
   "outputs": [],
   "source": [
    "import math\n",
    "import numpy as np\n",
    "import matplotlib.pyplot as plt\n",
    "%matplotlib inline"
   ]
  },
  {
   "cell_type": "markdown",
   "metadata": {},
   "source": [
    "Use Python script to estimate the value of ln(2) based on the following Taylor series:"
   ]
  },
  {
   "cell_type": "code",
   "execution_count": 15,
   "metadata": {},
   "outputs": [],
   "source": [
    "def taylor_ln(value, k):\n",
    "    '''\n",
    "    k = number of terms\n",
    "    '''\n",
    "    first_value = 0\n",
    "    \n",
    "    try:\n",
    "        value_x = (value - 1) / float(value + 1)\n",
    "        \n",
    "        for item in range(1, k, 2):\n",
    "            next_value = value_x ** item / item\n",
    "            first_value += next_value\n",
    "            \n",
    "        return 2 * (first_value)\n",
    "    \n",
    "    except TypeError:\n",
    "        pass"
   ]
  },
  {
   "cell_type": "markdown",
   "metadata": {},
   "source": [
    "a) ) If exact value of ln(2) = 0.6931471806, what is the true error if we use 5 terms,\n",
    "do you think the estimation is good enough?"
   ]
  },
  {
   "cell_type": "code",
   "execution_count": 16,
   "metadata": {},
   "outputs": [
    {
     "name": "stdout",
     "output_type": "stream",
     "text": [
      "0.691358024691358\n"
     ]
    }
   ],
   "source": [
    "print(taylor_ln(2, 5))\n",
    "# A Very Close Estimation With Very Little Error Percentage."
   ]
  },
  {
   "cell_type": "code",
   "execution_count": 18,
   "metadata": {},
   "outputs": [
    {
     "name": "stdout",
     "output_type": "stream",
     "text": [
      "0.002581206356625895\n"
     ]
    }
   ],
   "source": [
    "# Calculate True Error With 5 Terms.\n",
    "print(np.abs(((0.6931471806 - taylor_ln(2, 5)) / 0.6931471806) * 1))"
   ]
  },
  {
   "cell_type": "markdown",
   "metadata": {},
   "source": [
    "b) How many terms do you need to get absolute true error < 0.0001"
   ]
  },
  {
   "cell_type": "code",
   "execution_count": 40,
   "metadata": {},
   "outputs": [
    {
     "name": "stdout",
     "output_type": "stream",
     "text": [
      "1.0\n",
      "1.0\n",
      "0.03820330612960354\n",
      "0.03820330612960354\n",
      "0.002581206356625895\n",
      "0.002581206356625895\n",
      "0.0002063997050940304\n",
      "0.0002063997050940304\n",
      "1.7922986718546624e-05\n",
      "1.7922986718546624e-05\n"
     ]
    }
   ],
   "source": [
    "# Repeatingly Calculate Absolute True Error Until The One Less Than 0.0001 Is Found.\n",
    "for i in range(10):\n",
    "    print(np.abs(((0.6931471806 - taylor_ln(2, i)) / 0.6931471806) * 1))"
   ]
  },
  {
   "cell_type": "markdown",
   "metadata": {},
   "source": [
    "<h2>Not Found</h2>"
   ]
  },
  {
   "cell_type": "markdown",
   "metadata": {},
   "source": [
    "c) How many terms do you need to get the absolute relative approximate error < 0.1"
   ]
  },
  {
   "cell_type": "markdown",
   "metadata": {},
   "source": [
    "<h2>3 Terms.</h2>"
   ]
  },
  {
   "cell_type": "markdown",
   "metadata": {},
   "source": [
    "d) Calculate ln(2) using 1, 2, 3, … , 10 terms then plot its approximate error:"
   ]
  },
  {
   "cell_type": "code",
   "execution_count": 35,
   "metadata": {},
   "outputs": [],
   "source": [
    "x = [i for i in range(1, 10 + 1)]\n",
    "y = [np.abs(((0.6931471806 - taylor_ln(2, j)) / 0.6931471806) * 1) for j in x]"
   ]
  },
  {
   "cell_type": "code",
   "execution_count": 39,
   "metadata": {},
   "outputs": [
    {
     "data": {
      "image/png": "[encoded data removed]",
      "text/plain": [
       "<Figure size 432x288 with 1 Axes>"
      ]
     },
     "metadata": {
      "needs_background": "light"
     },
     "output_type": "display_data"
    }
   ],
   "source": [
    "plt.plot(x, y)\n",
    "plt.title(\"Error Approximation\")\n",
    "plt.xlabel(\"Number Of Terms\")\n",
    "plt.ylabel(\"Error Percentages\")\n",
    "plt.grid(True)\n",
    "plt.show()"
   ]
  }
 ],
 "metadata": {
  "kernelspec": {
   "display_name": "Python 3",
   "language": "python",
   "name": "python3"
  },
  "language_info": {
   "codemirror_mode": {
    "name": "ipython",
    "version": 3
   },
   "file_extension": ".py",
   "mimetype": "text/x-python",
   "name": "python",
   "nbconvert_exporter": "python",
   "pygments_lexer": "ipython3",
   "version": "3.8.5"
  }
 },
 "nbformat": 4,
 "nbformat_minor": 4
}
