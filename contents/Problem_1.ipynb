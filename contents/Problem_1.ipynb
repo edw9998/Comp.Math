{
 "cells": [
  {
   "cell_type": "markdown",
   "metadata": {},
   "source": [
    "<center>Assuming that the male’s shoe sizes are normally distributed with a mean of 42 and a\n",
    "standard deviation of 1.5:</center>"
   ]
  },
  {
   "cell_type": "code",
   "execution_count": 56,
   "metadata": {},
   "outputs": [],
   "source": [
    "# Import The Required Modules Below :\n",
    "from scipy.stats import norm\n",
    "from scipy.stats import rv_histogram\n",
    "from scipy.stats import pearsonr\n",
    "import scipy as sp\n",
    "import numpy as np\n",
    "import matplotlib.pyplot as plt\n",
    "%matplotlib inline"
   ]
  },
  {
   "cell_type": "markdown",
   "metadata": {},
   "source": [
    "a) Create a Python code to draw a set of random variable samples (RVS) of size 100 !"
   ]
  },
  {
   "cell_type": "code",
   "execution_count": 7,
   "metadata": {},
   "outputs": [
    {
     "name": "stdout",
     "output_type": "stream",
     "text": [
      "[ 2.43651805 -0.91763462 -0.79225763 -1.60945293  1.29811144 -3.45230805\n",
      "  2.61721765 -1.14181035  0.47855864 -0.37405556  2.19316191 -3.09021106\n",
      " -0.48362581 -0.57608153  1.70065416 -1.6498369  -0.25864231 -1.31678763\n",
      "  0.06332062  0.87422282 -1.65092877  1.71708556  1.35238608  0.75374151\n",
      "  1.35128392 -1.02559179 -0.18433534 -1.40365415 -0.40183212  0.7955332\n",
      " -1.03749113 -0.59513029 -1.03075905 -1.26780846 -1.0068692  -0.0189969\n",
      " -1.67596552  0.35162355  2.48970327  1.11306624 -0.28775333 -1.33144345\n",
      " -1.12073744  2.5386819   0.07621163 -0.95549347  0.28637323  3.1503827\n",
      "  0.18023843  0.92580466  0.45025548 -0.52837477 -1.7137773  -0.52401408\n",
      " -0.31334135  0.87993479  1.25847512  1.39665312  0.42838099  1.32771175\n",
      " -1.13159691  1.87930223  0.76939473 -0.44713925  0.73277722 -0.11335757\n",
      "  1.69744408  2.27972522  3.27836311 -2.0947445  -2.16617071 -0.75669879\n",
      "  0.2400556   1.31425338  0.47345242 -3.03330182 -0.45930602  1.24196196\n",
      "  0.3451421   1.14301677 -0.33349221 -0.3011371   0.27984209  0.61507747\n",
      "  0.29744958  0.17851297 -1.00599343  0.56634568  0.18273191  1.69422586\n",
      "  1.79837682  0.27773463 -0.56292743 -0.95809561  0.63524153  0.1160101\n",
      " -0.51578051  0.06539529 -0.93000127  1.04704805]\n"
     ]
    }
   ],
   "source": [
    "# Create A Set Of Random Variable Samples(RVS) of Size 100.\n",
    "# Internal RandomState Instance Has Seed = 1.\n",
    "rvs_arr = norm.rvs(size = 100, loc = 0, scale = 1.5, random_state = 1)\n",
    "print(rvs_arr)"
   ]
  },
  {
   "cell_type": "markdown",
   "metadata": {},
   "source": [
    "b) Plot the density histogram of your RVS with bin size = 10 !"
   ]
  },
  {
   "cell_type": "code",
   "execution_count": 22,
   "metadata": {},
   "outputs": [],
   "source": [
    "# Creating The Coordinates For The Probability Density Function Histogram.\n",
    "my_data = rvs_arr\n",
    "hist_coordinates = np.histogram(my_data, bins = 10)\n",
    "my_hist = rv_histogram(hist_coordinates)"
   ]
  },
  {
   "cell_type": "code",
   "execution_count": 21,
   "metadata": {},
   "outputs": [
    {
     "name": "stdout",
     "output_type": "stream",
     "text": [
      "Minimum Bin = \n",
      "0.04457207804184335\n",
      "\n",
      "\n",
      "Maximum Bin = \n",
      "0.0\n"
     ]
    }
   ],
   "source": [
    "# Finding The Lower And Upper Bins Of The PDF Histogram.\n",
    "# PDF Is Zero Above The Highest Bin Of The Histogram, Determined By The Method np.max() Of The RVS Dataset.\n",
    "print(\"Minimum Bin = \")\n",
    "print(my_hist.pdf(np.min(my_data)))\n",
    "print(\"\\n\")\n",
    "print(\"Maximum Bin = \")\n",
    "print(my_hist.pdf(np.max(my_data)))"
   ]
  },
  {
   "cell_type": "code",
   "execution_count": 24,
   "metadata": {},
   "outputs": [
    {
     "data": {
      "image/png": "[encoded data removed]",
      "text/plain": [
       "<Figure size 432x288 with 1 Axes>"
      ]
     },
     "metadata": {
      "needs_background": "light"
     },
     "output_type": "display_data"
    }
   ],
   "source": [
    "# Plotting Histogram To Represent Probability Density Function(PDF), With bins parameter = 10.\n",
    "X_arr = np.linspace(-5.0, 5.0, 100)\n",
    "plt.title(\"PDF Of Each RVS Value\")\n",
    "plt.hist(my_data, density = True, bins = 10)\n",
    "plt.plot(X_arr, my_hist.pdf(X_arr), label = 'PDF')\n",
    "plt.show()"
   ]
  },
  {
   "cell_type": "markdown",
   "metadata": {},
   "source": [
    "c) Create another 100 data for each respective male’s height by following the\n",
    "   formula:\n",
    "   \n",
    "   <br>\n",
    "   \n",
    "   <center>height = shoe size x 4.2 + random number</center>\n",
    "   <center>the random number here must be drawn from a uniform distribution within the range of min=5 and max=20</center>"
   ]
  },
  {
   "cell_type": "code",
   "execution_count": 39,
   "metadata": {},
   "outputs": [
    {
     "name": "stdout",
     "output_type": "stream",
     "text": [
      "[18.94424139  9.74563332  7.75878218  8.06840418 13.51587544 13.93317054\n",
      " 19.4677178  14.79765645 16.23359956 14.80354806 16.21572214 19.41960104\n",
      "  5.12582447  6.59666565  9.48055571 14.84616775 17.14718829 18.08263871\n",
      " 19.46971396 15.8552802  14.63712992 15.76180431 12.01398511  9.88377016\n",
      " 11.59466909 15.94533624 19.91021879 15.15310568 16.86233777  7.56371387\n",
      "  5.40273914 17.00555366 18.55583807  5.37014316 12.37620978 12.89382751\n",
      " 13.94549016  5.77936318 18.42634292 15.9239927  17.27525017 12.50334129\n",
      " 17.15284113  6.43952789  8.28425066  8.88078592 12.02158631 11.89059804\n",
      " 15.6426467   7.67079509 12.97174827  7.51613343 16.53220878 18.92255824\n",
      " 14.14240487  7.25275242 12.34440056 10.66017431 17.72902118 18.66645843\n",
      " 10.75773082  9.73243855 13.52591229  7.81727053  6.88762316 15.31393708\n",
      " 16.99410077 13.60304848 19.59844972 14.51081566 18.32632587 12.43122138\n",
      " 10.27424795 15.71345553 12.55893675  8.3845641   8.6746166  16.8920105\n",
      " 12.42758622 18.7264051  19.18057751 12.99848344  8.78738892 15.81293087\n",
      " 10.51158146 12.47972664  8.39862571 10.3034847  14.7627768   9.69399343\n",
      " 16.53103171 16.72755655 17.78614224 19.2485861   6.60984368 18.66088034\n",
      " 10.04082743 17.3957064  18.47150953]\n"
     ]
    }
   ],
   "source": [
    "# Generate The Uniformly Distributed 100 Random Numbers With Min_Range = 5 And Max_Range = 20.\n",
    "sp.random.seed(12345)\n",
    "this_size = 100\n",
    "uniform_rand = sp.random.uniform(low = 5, high = 20, size = this_size)\n",
    "print(uniform_rand[0:this_size - 1])"
   ]
  },
  {
   "cell_type": "code",
   "execution_count": 41,
   "metadata": {},
   "outputs": [
    {
     "name": "stdout",
     "output_type": "stream",
     "text": [
      "[41.06658866 40.61824709 40.91067976 42.33434332 42.07697415 40.2634208\n",
      " 43.2250604  42.65041441 43.51610542 44.73731282 40.50372263 43.27588665\n",
      " 41.8026336  43.36862123 42.28231602 45.25419216 41.82760769 45.00554604\n",
      " 42.04441523 43.19287973 42.17716463 40.87720268 42.87745461 42.22901486\n",
      " 39.65151406 41.15618972 41.95100379 40.6064907  41.27614103 41.94560423\n",
      " 43.64308509 43.47139272 41.11576847 44.37255014 41.20689776 42.68550281\n",
      " 43.39495314 39.64609409 40.46626953 41.39575961 42.33073029 41.70989834\n",
      " 43.0037375  39.52652277 38.62080413 40.24975168 42.53041065 43.05316526\n",
      " 41.58814619 41.79128672 42.16148583 41.09018231 41.37440339 41.97448944\n",
      " 40.16378207 39.29874013 44.45210431 43.48351245 42.68691021 42.83273162\n",
      " 43.96007959 41.33916964 41.54797458 42.74818723 40.76401344 43.98084876\n",
      " 42.76194718 41.01984349 42.28046927 41.41241213 41.59156054 41.97428785\n",
      " 43.02048112 42.95326854 40.86423525 43.07712875 41.54359039 39.48331463\n",
      " 42.64047913 39.65439023 41.44876872 43.5688688  43.82993155 41.62845133\n",
      " 41.3756518  41.82487949 39.23281858 45.10306178 40.83454879 44.1602503\n",
      " 41.83416396 43.84108049 44.88117639 43.11964956 45.33698939 40.98089938\n",
      " 43.09105317 40.6969039  40.17922364 41.2940536 ]\n"
     ]
    }
   ],
   "source": [
    "# Then Create The Shoe Sizes For Males Dataset With Mean = 42 And Std = float(1.5) Using A Random Normal Distribution.\n",
    "shoe_sizes = np.random.normal(loc = 42, scale = 1.5, size = len(uniform_rand))\n",
    "print(shoe_sizes)"
   ]
  },
  {
   "cell_type": "code",
   "execution_count": 51,
   "metadata": {},
   "outputs": [
    {
     "name": "stdout",
     "output_type": "stream",
     "text": [
      "[]\n"
     ]
    }
   ],
   "source": [
    "# Initialize Heights Dataset.\n",
    "my_heights = []\n",
    "print(my_heights)"
   ]
  },
  {
   "cell_type": "code",
   "execution_count": 52,
   "metadata": {},
   "outputs": [
    {
     "name": "stdout",
     "output_type": "stream",
     "text": [
      "[191.42391377438148, 180.34227108824484, 179.5836371713932, 185.87264611705723, 190.23916687202689, 183.03953790691864, 201.01297149214525, 193.92939696869453, 199.00124232283144, 202.70026189425602, 186.33135717849325, 201.17832496313486, 180.69688558148752, 188.74487480833238, 187.06628299328895, 204.91377480368078, 192.82314059924212, 207.1059320890884, 196.05625792015897, 197.26537508572568, 191.7812213666881, 187.4460555566883, 192.09929445675925, 187.24563257173048, 178.1310281372302, 188.801333056332, 196.10443471179877, 185.70036660253012, 190.22213010005572, 183.73525163644763, 188.7036965157275, 199.58540306705197, 191.24206565017306, 191.73485374987035, 185.44518037211054, 192.17293929941314, 196.2042933378239, 172.29295836376593, 188.38467495911985, 189.78618308110524, 195.0643174094194, 187.68491431274344, 197.7685386517801, 172.45092352330073, 170.4916280011288, 177.92974296157578, 190.64931105236357, 192.71389211936858, 190.31286071436648, 183.19419930308706, 190.04998876085193, 180.09489914218807, 190.3047030042506, 195.21541390472458, 182.83028957948426, 172.3074609649876, 199.04323864445342, 193.29092660965262, 197.01404408116122, 198.56393121449662, 195.3900650844013, 183.35695105870275, 188.027405528685, 187.35965691181545, 178.0964796060938, 200.03350188424943, 196.59427891972885, 185.88639112492947, 197.17642066306104, 188.44294658909092, 193.01088012815734, 188.7232303368806, 190.96026866542465, 196.11718337517493, 184.18872478134793, 189.30850485501094, 183.15769622497194, 182.72193195244532, 191.51759855410842, 185.27484407289836, 193.2654061227828, 195.98773240433727, 192.87310141736128, 190.65242644058407, 184.28931902688734, 188.14422051681476, 173.17646373048686, 199.7363441640779, 186.26788171570422, 195.16704470318442, 192.23452034228217, 200.8600946180969, 206.28708309378095, 200.35111424319496, 197.0251991010268, 190.78065775334176, 191.02325075264451, 188.32270277562878, 187.22424882171725, 179.07575469838747]\n"
     ]
    }
   ],
   "source": [
    "# Calculate Each Height Value And Insert It Into The Dataset.\n",
    "for i, j in zip(uniform_rand.tolist(), shoe_sizes.tolist()):\n",
    "    result = (4.2 * j) + i\n",
    "    my_heights.append(result)\n",
    "\n",
    "print(my_heights)"
   ]
  },
  {
   "cell_type": "markdown",
   "metadata": {},
   "source": [
    "d) Perform a correlation test on male’s shoe size and height by using Pearson’s\n",
    "    correlation. Print the correlation coefficient (r) and show your conclusion whether\n",
    "    the two data are strongly correlated or not. "
   ]
  },
  {
   "cell_type": "code",
   "execution_count": 55,
   "metadata": {},
   "outputs": [],
   "source": [
    "# Prepare Shoe Size And Height Datasets.\n",
    "this_shoe_sizes = shoe_sizes\n",
    "this_heights = np.array(my_heights)"
   ]
  },
  {
   "cell_type": "code",
   "execution_count": 57,
   "metadata": {},
   "outputs": [
    {
     "name": "stdout",
     "output_type": "stream",
     "text": [
      "(0.8304726870581417, 1.2086606995035341e-26)\n"
     ]
    }
   ],
   "source": [
    "# Perform stats.pearsonr().\n",
    "print(pearsonr(this_shoe_sizes, this_heights))"
   ]
  },
  {
   "cell_type": "markdown",
   "metadata": {},
   "source": [
    "**r = 0.8304726870581417**\n",
    "<br>\n",
    "**p-value = 1.2086606995035341e-26**\n",
    "<br>\n"
   ]
  },
  {
   "cell_type": "markdown",
   "metadata": {},
   "source": [
    "<h3>With The R-Value Being Pretty Close With A Perfect 1.0, The 2 Datasets Have A Large Positive Relationship, Which Describes A Near Perfect Correlation.</h3>"
   ]
  }
 ],
 "metadata": {
  "kernelspec": {
   "display_name": "Python 3",
   "language": "python",
   "name": "python3"
  },
  "language_info": {
   "codemirror_mode": {
    "name": "ipython",
    "version": 3
   },
   "file_extension": ".py",
   "mimetype": "text/x-python",
   "name": "python",
   "nbconvert_exporter": "python",
   "pygments_lexer": "ipython3",
   "version": "3.8.5"
  }
 },
 "nbformat": 4,
 "nbformat_minor": 4
}
